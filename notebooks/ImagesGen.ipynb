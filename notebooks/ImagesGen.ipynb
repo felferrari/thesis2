{
 "cells": [
  {
   "cell_type": "code",
   "execution_count": 1,
   "metadata": {},
   "outputs": [],
   "source": [
    "%load_ext autoreload\n",
    "%autoreload 2"
   ]
  },
  {
   "cell_type": "code",
   "execution_count": 2,
   "metadata": {},
   "outputs": [],
   "source": [
    "import sys\n",
    "sys.path.append('../')\n",
    "from hydra import initialize, compose, initialize_config_module\n",
    "from src.utils.ops import load_opt_image, load_SAR_image, load_sb_image\n",
    "from pathlib import Path\n",
    "import matplotlib.pyplot as plt\n",
    "import numpy as np"
   ]
  },
  {
   "cell_type": "code",
   "execution_count": 3,
   "metadata": {},
   "outputs": [],
   "source": [
    "site='s2'"
   ]
  },
  {
   "cell_type": "code",
   "execution_count": 4,
   "metadata": {},
   "outputs": [],
   "source": [
    "with initialize(version_base=None, config_path='../conf'):\n",
    "    cfg = compose(config_name='config.yaml', \n",
    "                  overrides=[\n",
    "                      f\"+site={site}\", \n",
    "                      ])"
   ]
  },
  {
   "cell_type": "code",
   "execution_count": 5,
   "metadata": {},
   "outputs": [],
   "source": [
    "images_opt = cfg.site.original_data.opt.train.imgs + cfg.site.original_data.opt.test.imgs[3:]\n",
    "images_sar = cfg.site.original_data.sar.train.imgs + cfg.site.original_data.sar.test.imgs[3:]\n",
    "opt_path = Path(cfg.path.opt)\n",
    "sar_path = Path(cfg.path.sar)\n",
    "figures = Path('figures')\n",
    "figures.mkdir(exist_ok=True)"
   ]
  },
  {
   "cell_type": "markdown",
   "metadata": {},
   "source": [
    "## Optical"
   ]
  },
  {
   "cell_type": "code",
   "execution_count": 6,
   "metadata": {},
   "outputs": [],
   "source": [
    "for image in images_opt:\n",
    "    img_path = opt_path / image\n",
    "    img_data = load_opt_image(img_path)[:,:,[2,1,0]]\n",
    "    fig, ax = plt.subplots(1,1, figsize = (8,8))\n",
    "    factor = np.array([4, 5, 6])\n",
    "    img = np.clip(img_data*factor, 0, 1)\n",
    "    plt.imshow(img)\n",
    "    plt.axis('off')\n",
    "    plt.title(image)\n",
    "    save_img_path = figures/ f'{site}_{image[:-4]}.png'\n",
    "    plt.savefig(save_img_path, bbox_inches='tight')\n",
    "    plt.close(fig)"
   ]
  },
  {
   "cell_type": "markdown",
   "metadata": {},
   "source": [
    "## Cloud"
   ]
  },
  {
   "cell_type": "code",
   "execution_count": null,
   "metadata": {},
   "outputs": [],
   "source": [
    "for image in images_opt:\n",
    "    img_path = opt_path / f'cloud_{image}'\n",
    "    img_data = load_sb_image(img_path)\n",
    "    fig, ax = plt.subplots(1,1, figsize = (6,6))\n",
    "    plt.imshow(img_data, vmin=0, vmax=100)\n",
    "    plt.colorbar()\n",
    "    plt.axis('off')\n",
    "    plt.title(image)\n",
    "    save_img_path = figures/ f'{site}_cloud_{image[:-4]}.png'\n",
    "    plt.savefig(save_img_path, bbox_inches='tight')\n",
    "    plt.close(fig)"
   ]
  },
  {
   "cell_type": "markdown",
   "metadata": {},
   "source": [
    "## SAR"
   ]
  },
  {
   "cell_type": "code",
   "execution_count": null,
   "metadata": {},
   "outputs": [
    {
     "ename": "KeyboardInterrupt",
     "evalue": "",
     "output_type": "error",
     "traceback": [
      "\u001b[0;31m---------------------------------------------------------------------------\u001b[0m",
      "\u001b[0;31mKeyboardInterrupt\u001b[0m                         Traceback (most recent call last)",
      "Cell \u001b[0;32mIn[21], line 3\u001b[0m\n\u001b[1;32m      1\u001b[0m \u001b[38;5;28;01mfor\u001b[39;00m image \u001b[38;5;129;01min\u001b[39;00m images_sar:\n\u001b[1;32m      2\u001b[0m     img_path \u001b[38;5;241m=\u001b[39m sar_path \u001b[38;5;241m/\u001b[39m image\n\u001b[0;32m----> 3\u001b[0m     img_data \u001b[38;5;241m=\u001b[39m \u001b[43mload_SAR_image\u001b[49m\u001b[43m(\u001b[49m\u001b[43mimg_path\u001b[49m\u001b[43m)\u001b[49m\n\u001b[1;32m      4\u001b[0m     img_data_0 \u001b[38;5;241m=\u001b[39m img_data[:,:,\u001b[38;5;241m0\u001b[39m]\n\u001b[1;32m      5\u001b[0m     img_data_1 \u001b[38;5;241m=\u001b[39m img_data[:,:,\u001b[38;5;241m1\u001b[39m]\n",
      "File \u001b[0;32m~/projects/thesis2/notebooks/../src/utils/ops.py:107\u001b[0m, in \u001b[0;36mload_SAR_image\u001b[0;34m(img_file)\u001b[0m\n\u001b[1;32m     98\u001b[0m \u001b[38;5;28;01mdef\u001b[39;00m \u001b[38;5;21mload_SAR_image\u001b[39m(img_file) \u001b[38;5;241m-\u001b[39m\u001b[38;5;241m>\u001b[39m np\u001b[38;5;241m.\u001b[39mndarray:\n\u001b[1;32m     99\u001b[0m \u001b[38;5;250m    \u001b[39m\u001b[38;5;124;03m\"\"\"load SAR image, converting from Db to DN.\u001b[39;00m\n\u001b[1;32m    100\u001b[0m \n\u001b[1;32m    101\u001b[0m \u001b[38;5;124;03m    Args:\u001b[39;00m\n\u001b[0;32m   (...)\u001b[0m\n\u001b[1;32m    105\u001b[0m \u001b[38;5;124;03m        array:numpy array of the image. Channels Last.\u001b[39;00m\n\u001b[1;32m    106\u001b[0m \u001b[38;5;124;03m    \"\"\"\u001b[39;00m\n\u001b[0;32m--> 107\u001b[0m     img \u001b[38;5;241m=\u001b[39m \u001b[43mgdal_array\u001b[49m\u001b[38;5;241;43m.\u001b[39;49m\u001b[43mLoadFile\u001b[49m\u001b[43m(\u001b[49m\u001b[38;5;28;43mstr\u001b[39;49m\u001b[43m(\u001b[49m\u001b[43mimg_file\u001b[49m\u001b[43m)\u001b[49m\u001b[43m)\u001b[49m\n\u001b[1;32m    108\u001b[0m     \u001b[38;5;66;03m#img = 10**(img/10) \u001b[39;00m\n\u001b[1;32m    109\u001b[0m     img[np\u001b[38;5;241m.\u001b[39misnan(img)] \u001b[38;5;241m=\u001b[39m \u001b[38;5;241m0\u001b[39m\n",
      "File \u001b[0;32m~/anaconda3/envs/thesis2/lib/python3.11/site-packages/osgeo/gdal_array.py:363\u001b[0m, in \u001b[0;36mLoadFile\u001b[0;34m(filename, xoff, yoff, xsize, ysize, buf_xsize, buf_ysize, buf_type, resample_alg, callback, callback_data, interleave, band_list)\u001b[0m\n\u001b[1;32m    360\u001b[0m \u001b[38;5;28;01mif\u001b[39;00m ds \u001b[38;5;129;01mis\u001b[39;00m \u001b[38;5;28;01mNone\u001b[39;00m:\n\u001b[1;32m    361\u001b[0m     \u001b[38;5;28;01mraise\u001b[39;00m \u001b[38;5;167;01mValueError\u001b[39;00m(\u001b[38;5;124m\"\u001b[39m\u001b[38;5;124mCan\u001b[39m\u001b[38;5;124m'\u001b[39m\u001b[38;5;124mt open \u001b[39m\u001b[38;5;124m\"\u001b[39m\u001b[38;5;241m+\u001b[39mfilename\u001b[38;5;241m+\u001b[39m\u001b[38;5;124m\"\u001b[39m\u001b[38;5;130;01m\\n\u001b[39;00m\u001b[38;5;130;01m\\n\u001b[39;00m\u001b[38;5;124m\"\u001b[39m\u001b[38;5;241m+\u001b[39mgdal\u001b[38;5;241m.\u001b[39mGetLastErrorMsg())\n\u001b[0;32m--> 363\u001b[0m \u001b[38;5;28;01mreturn\u001b[39;00m \u001b[43mDatasetReadAsArray\u001b[49m\u001b[43m(\u001b[49m\u001b[43mds\u001b[49m\u001b[43m,\u001b[49m\u001b[43m \u001b[49m\u001b[43mxoff\u001b[49m\u001b[43m,\u001b[49m\u001b[43m \u001b[49m\u001b[43myoff\u001b[49m\u001b[43m,\u001b[49m\u001b[43m \u001b[49m\u001b[43mxsize\u001b[49m\u001b[43m,\u001b[49m\u001b[43m \u001b[49m\u001b[43mysize\u001b[49m\u001b[43m,\u001b[49m\n\u001b[1;32m    364\u001b[0m \u001b[43m                          \u001b[49m\u001b[43mbuf_xsize\u001b[49m\u001b[38;5;241;43m=\u001b[39;49m\u001b[43mbuf_xsize\u001b[49m\u001b[43m,\u001b[49m\u001b[43m \u001b[49m\u001b[43mbuf_ysize\u001b[49m\u001b[38;5;241;43m=\u001b[39;49m\u001b[43mbuf_ysize\u001b[49m\u001b[43m,\u001b[49m\u001b[43m \u001b[49m\u001b[43mbuf_type\u001b[49m\u001b[38;5;241;43m=\u001b[39;49m\u001b[43mbuf_type\u001b[49m\u001b[43m,\u001b[49m\n\u001b[1;32m    365\u001b[0m \u001b[43m                          \u001b[49m\u001b[43mresample_alg\u001b[49m\u001b[38;5;241;43m=\u001b[39;49m\u001b[43mresample_alg\u001b[49m\u001b[43m,\u001b[49m\n\u001b[1;32m    366\u001b[0m \u001b[43m                          \u001b[49m\u001b[43mcallback\u001b[49m\u001b[38;5;241;43m=\u001b[39;49m\u001b[43mcallback\u001b[49m\u001b[43m,\u001b[49m\u001b[43m \u001b[49m\u001b[43mcallback_data\u001b[49m\u001b[38;5;241;43m=\u001b[39;49m\u001b[43mcallback_data\u001b[49m\u001b[43m,\u001b[49m\n\u001b[1;32m    367\u001b[0m \u001b[43m                          \u001b[49m\u001b[43minterleave\u001b[49m\u001b[38;5;241;43m=\u001b[39;49m\u001b[43minterleave\u001b[49m\u001b[43m,\u001b[49m\n\u001b[1;32m    368\u001b[0m \u001b[43m                          \u001b[49m\u001b[43mband_list\u001b[49m\u001b[38;5;241;43m=\u001b[39;49m\u001b[43mband_list\u001b[49m\u001b[43m)\u001b[49m\n",
      "File \u001b[0;32m~/anaconda3/envs/thesis2/lib/python3.11/site-packages/osgeo/gdal_array.py:493\u001b[0m, in \u001b[0;36mDatasetReadAsArray\u001b[0;34m(ds, xoff, yoff, win_xsize, win_ysize, buf_obj, buf_xsize, buf_ysize, buf_type, resample_alg, callback, callback_data, interleave, band_list)\u001b[0m\n\u001b[1;32m    490\u001b[0m         \u001b[38;5;28;01mraise\u001b[39;00m \u001b[38;5;167;01mValueError\u001b[39;00m(\u001b[38;5;124m\"\u001b[39m\u001b[38;5;124mSpecified buf_type not consistent with array type\u001b[39m\u001b[38;5;124m\"\u001b[39m)\n\u001b[1;32m    491\u001b[0m     buf_type \u001b[38;5;241m=\u001b[39m datatype\n\u001b[0;32m--> 493\u001b[0m \u001b[38;5;28;01mif\u001b[39;00m \u001b[43mDatasetIONumPy\u001b[49m\u001b[43m(\u001b[49m\u001b[43mds\u001b[49m\u001b[43m,\u001b[49m\u001b[43m \u001b[49m\u001b[38;5;241;43m0\u001b[39;49m\u001b[43m,\u001b[49m\u001b[43m \u001b[49m\u001b[43mxoff\u001b[49m\u001b[43m,\u001b[49m\u001b[43m \u001b[49m\u001b[43myoff\u001b[49m\u001b[43m,\u001b[49m\u001b[43m \u001b[49m\u001b[43mwin_xsize\u001b[49m\u001b[43m,\u001b[49m\u001b[43m \u001b[49m\u001b[43mwin_ysize\u001b[49m\u001b[43m,\u001b[49m\n\u001b[1;32m    494\u001b[0m \u001b[43m                  \u001b[49m\u001b[43mbuf_obj\u001b[49m\u001b[43m,\u001b[49m\u001b[43m \u001b[49m\u001b[43mbuf_type\u001b[49m\u001b[43m,\u001b[49m\u001b[43m \u001b[49m\u001b[43mresample_alg\u001b[49m\u001b[43m,\u001b[49m\u001b[43m \u001b[49m\u001b[43mcallback\u001b[49m\u001b[43m,\u001b[49m\u001b[43m \u001b[49m\u001b[43mcallback_data\u001b[49m\u001b[43m,\u001b[49m\n\u001b[1;32m    495\u001b[0m \u001b[43m                  \u001b[49m\u001b[43minterleave\u001b[49m\u001b[43m,\u001b[49m\u001b[43m \u001b[49m\u001b[43mband_list\u001b[49m\u001b[43m)\u001b[49m \u001b[38;5;241m!=\u001b[39m \u001b[38;5;241m0\u001b[39m:\n\u001b[1;32m    496\u001b[0m     _RaiseException()\n\u001b[1;32m    497\u001b[0m     \u001b[38;5;28;01mreturn\u001b[39;00m \u001b[38;5;28;01mNone\u001b[39;00m\n",
      "File \u001b[0;32m~/anaconda3/envs/thesis2/lib/python3.11/site-packages/osgeo/gdal_array.py:256\u001b[0m, in \u001b[0;36mDatasetIONumPy\u001b[0;34m(ds, bWrite, xoff, yoff, xsize, ysize, psArray, buf_type, resample_alg, callback, callback_data, binterleave, band_list)\u001b[0m\n\u001b[1;32m    254\u001b[0m \u001b[38;5;28;01mdef\u001b[39;00m \u001b[38;5;21mDatasetIONumPy\u001b[39m(ds, bWrite, xoff, yoff, xsize, ysize, psArray, buf_type, resample_alg, callback\u001b[38;5;241m=\u001b[39m\u001b[38;5;241m0\u001b[39m, callback_data\u001b[38;5;241m=\u001b[39m\u001b[38;5;28;01mNone\u001b[39;00m, binterleave\u001b[38;5;241m=\u001b[39m\u001b[38;5;28;01mTrue\u001b[39;00m, band_list\u001b[38;5;241m=\u001b[39m\u001b[38;5;241m0\u001b[39m):\n\u001b[1;32m    255\u001b[0m \u001b[38;5;250m    \u001b[39m\u001b[38;5;124mr\u001b[39m\u001b[38;5;124;03m\"\"\"DatasetIONumPy(Dataset ds, int bWrite, double xoff, double yoff, double xsize, double ysize, PyArrayObject * psArray, GDALDataType buf_type, GDALRIOResampleAlg resample_alg, GDALProgressFunc callback=0, void * callback_data=None, bool binterleave=True, int band_list=0) -> CPLErr\"\"\"\u001b[39;00m\n\u001b[0;32m--> 256\u001b[0m     \u001b[38;5;28;01mreturn\u001b[39;00m \u001b[43m_gdal_array\u001b[49m\u001b[38;5;241;43m.\u001b[39;49m\u001b[43mDatasetIONumPy\u001b[49m\u001b[43m(\u001b[49m\u001b[43mds\u001b[49m\u001b[43m,\u001b[49m\u001b[43m \u001b[49m\u001b[43mbWrite\u001b[49m\u001b[43m,\u001b[49m\u001b[43m \u001b[49m\u001b[43mxoff\u001b[49m\u001b[43m,\u001b[49m\u001b[43m \u001b[49m\u001b[43myoff\u001b[49m\u001b[43m,\u001b[49m\u001b[43m \u001b[49m\u001b[43mxsize\u001b[49m\u001b[43m,\u001b[49m\u001b[43m \u001b[49m\u001b[43mysize\u001b[49m\u001b[43m,\u001b[49m\u001b[43m \u001b[49m\u001b[43mpsArray\u001b[49m\u001b[43m,\u001b[49m\u001b[43m \u001b[49m\u001b[43mbuf_type\u001b[49m\u001b[43m,\u001b[49m\u001b[43m \u001b[49m\u001b[43mresample_alg\u001b[49m\u001b[43m,\u001b[49m\u001b[43m \u001b[49m\u001b[43mcallback\u001b[49m\u001b[43m,\u001b[49m\u001b[43m \u001b[49m\u001b[43mcallback_data\u001b[49m\u001b[43m,\u001b[49m\u001b[43m \u001b[49m\u001b[43mbinterleave\u001b[49m\u001b[43m,\u001b[49m\u001b[43m \u001b[49m\u001b[43mband_list\u001b[49m\u001b[43m)\u001b[49m\n",
      "\u001b[0;31mKeyboardInterrupt\u001b[0m: "
     ]
    }
   ],
   "source": [
    "for image in images_sar:\n",
    "    img_path = sar_path / image\n",
    "    img_data = load_SAR_image(img_path)\n",
    "    img_data_0 = img_data[:,:,0]\n",
    "    img_data_1 = img_data[:,:,1]\n",
    "    \n",
    "    # VV\n",
    "    factor = 2\n",
    "    img = np.clip(img_data_0*factor, 0, 1)\n",
    "    fig, ax = plt.subplots(1,1, figsize = (8,8))\n",
    "    plt.imshow(img, vmin=0, vmax=1, cmap = 'gray')\n",
    "    plt.axis('off')\n",
    "    plt.title(f'VV:{image}')\n",
    "    save_img_path = figures/ f'{site}_VV_{image[:-4]}_VV.png'\n",
    "    plt.savefig(save_img_path, bbox_inches='tight')\n",
    "    plt.close(fig)\n",
    "    \n",
    "    \n",
    "    ## VH\n",
    "    factor = 8\n",
    "    img = np.clip(img_data_1*factor, 0, 1)\n",
    "    fig, ax = plt.subplots(1,1, figsize = (8,8))\n",
    "    plt.imshow(img, vmin=0, vmax=1, cmap = 'gray')\n",
    "    plt.axis('off')\n",
    "    plt.title(f'VH:{image}')\n",
    "    save_img_path = figures/ f'{site}_VH_{image[:-4]}_VH.png'\n",
    "    plt.savefig(save_img_path, bbox_inches='tight')\n",
    "    plt.close(fig)"
   ]
  }
 ],
 "metadata": {
  "kernelspec": {
   "display_name": "thesis2",
   "language": "python",
   "name": "python3"
  },
  "language_info": {
   "codemirror_mode": {
    "name": "ipython",
    "version": 3
   },
   "file_extension": ".py",
   "mimetype": "text/x-python",
   "name": "python",
   "nbconvert_exporter": "python",
   "pygments_lexer": "ipython3",
   "version": "3.11.9"
  }
 },
 "nbformat": 4,
 "nbformat_minor": 2
}
