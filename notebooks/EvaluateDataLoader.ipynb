{
 "cells": [
  {
   "cell_type": "code",
   "execution_count": 1,
   "metadata": {},
   "outputs": [],
   "source": [
    "%load_ext autoreload\n",
    "%autoreload 2"
   ]
  },
  {
   "cell_type": "code",
   "execution_count": 15,
   "metadata": {},
   "outputs": [],
   "source": [
    "import sys\n",
    "sys.path.append('/home/felferrari/projects/thesis2')\n",
    "from hydra import initialize, compose, initialize_config_module\n",
    "from src.data.data_module import DataModule"
   ]
  },
  {
   "cell_type": "code",
   "execution_count": 32,
   "metadata": {},
   "outputs": [],
   "source": [
    "with initialize(version_base=None, config_path='../conf'):\n",
    "    cfg = compose(config_name='config.yaml', \n",
    "                  overrides=[\n",
    "                      \"+site=s3\", \n",
    "                      \"+exp=exp_1\"\n",
    "                      ])"
   ]
  },
  {
   "cell_type": "code",
   "execution_count": 40,
   "metadata": {},
   "outputs": [
    {
     "data": {
      "text/plain": [
       "{'model': {'target': 'src.models.resunet.ResUnetOpt', 'params': {'depths': [32, 64, 128, 256]}}, 'train_params': {'optimizer': {'target': 'torch.optim.Adam', 'params': {'lr': 2e-05}}, 'criterion': {'target': 'segmentation_models_pytorch.losses.FocalLoss', 'params': {'mode': 'multiclass', 'ignore_index': 3, 'gamma': 3}}, 'early_stop_params': {'patience': 10, 'min_delta': 1e-05}, 'max_epochs': 500}, 'name': 'resunet_opt_diverse', 'opt_condition': 'diverse_cloud', 'sar_condition': 'combined'}"
      ]
     },
     "execution_count": 40,
     "metadata": {},
     "output_type": "execute_result"
    }
   ],
   "source": [
    "cfg."
   ]
  },
  {
   "cell_type": "code",
   "execution_count": 34,
   "metadata": {},
   "outputs": [],
   "source": [
    "data_module = DataModule(cfg)"
   ]
  },
  {
   "cell_type": "code",
   "execution_count": 36,
   "metadata": {},
   "outputs": [],
   "source": [
    "batch = next(iter(data_module.train_dataloader()))"
   ]
  },
  {
   "cell_type": "code",
   "execution_count": 39,
   "metadata": {},
   "outputs": [
    {
     "data": {
      "text/plain": [
       "torch.Size([32, 2, 10, 224, 224])"
      ]
     },
     "execution_count": 39,
     "metadata": {},
     "output_type": "execute_result"
    }
   ],
   "source": [
    "batch[0]['opt'].shape"
   ]
  },
  {
   "cell_type": "code",
   "execution_count": null,
   "metadata": {},
   "outputs": [],
   "source": []
  }
 ],
 "metadata": {
  "kernelspec": {
   "display_name": "thesis2",
   "language": "python",
   "name": "python3"
  },
  "language_info": {
   "codemirror_mode": {
    "name": "ipython",
    "version": 3
   },
   "file_extension": ".py",
   "mimetype": "text/x-python",
   "name": "python",
   "nbconvert_exporter": "python",
   "pygments_lexer": "ipython3",
   "version": "3.11.8"
  }
 },
 "nbformat": 4,
 "nbformat_minor": 2
}
